{
 "cells": [
  {
   "cell_type": "code",
   "execution_count": 20,
   "metadata": {
    "button": false,
    "collapsed": false,
    "deletable": true,
    "new_sheet": false,
    "run_control": {
     "read_only": false
    }
   },
   "outputs": [
    {
     "name": "stdout",
     "output_type": "stream",
     "text": [
      "TasmanianSG version: 4.0\n",
      "TasmanianSG license: BSD 3-Clause\n",
      "Fixed Sparse Grids\n"
     ]
    },
    {
     "data": {
      "image/png": "[encoded data removed]",
      "text/plain": [
       "<Figure size 432x288 with 1 Axes>"
      ]
     },
     "metadata": {},
     "output_type": "display_data"
    }
   ],
   "source": [
    "# Exercise 1. Analytical examples (by Joao Paulo Valente)\n",
    "# necessary import for every use of TASMANIAN - To run need to be in a Server \n",
    "#  with Python 2 and Tasmanian\n",
    "#\n",
    "import TasmanianSG\n",
    "import numpy as np\n",
    "from matplotlib import pyplot as plt\n",
    "\n",
    "# imports specifically needed by the examples\n",
    "import math\n",
    "from random import uniform\n",
    "from datetime import datetime\n",
    "\n",
    "print(\"TasmanianSG version: {0:s}\".format(TasmanianSG.__version__))\n",
    "print(\"TasmanianSG license: {0:s}\".format(TasmanianSG.__license__))\n",
    "\n",
    "grid  = TasmanianSG.TasmanianSparseGrid()\n",
    "grid1 = TasmanianSG.TasmanianSparseGrid()\n",
    "grid2 = TasmanianSG.TasmanianSparseGrid()\n",
    "\n",
    "#############################################################################\n",
    "\n",
    "# EXAMPLE 1 for OSM:\n",
    "# interpolate: f(x,y) = cos(0.5 * pi * x) * cos(0.5 * pi * y)\n",
    "# using piecewise linear basis functions.\n",
    "\n",
    "    \n",
    "# Functions\n",
    "def f1(x):\n",
    "    w = 0.5\n",
    "    c = np.ones_like(x)\n",
    "    return np.cos(2 * np.pi * w + np.sum(c*x))\n",
    "\n",
    "def f2(x):\n",
    "    w = 0.5\n",
    "    c = np.ones_like(x)\n",
    "    return np.prod((c**(-2) + (x-w)**2)**(-1))\n",
    "\n",
    "def f3(x):\n",
    "    w = 0.5\n",
    "    c = np.ones_like(x)\n",
    "    return (1 + np.sum(c*x))**(-(float(len(x))+1.))\n",
    "\n",
    "def f4(x):\n",
    "    w = 0.5\n",
    "    c = np.ones_like(x)\n",
    "    return np.exp(- np.sum(c**2 * (x-w)**2))\n",
    "\n",
    "def f5(x):\n",
    "    w = 0.5\n",
    "    c = np.ones_like(x)\n",
    "    return np.exp(- np.sum(c * np.abs(x-w)))\n",
    "\n",
    "def f6(x):\n",
    "    w = 0.5\n",
    "    c = np.ones_like(x)\n",
    "    if np.max(x-w)>0:\n",
    "        out = 0\n",
    "    else:\n",
    "        out = np.exp(np.sum(c*x))\n",
    "    return out\n",
    "\n",
    "\n",
    "\n",
    "def solve_fixed(f, iDepth):\n",
    "    # Sparse Grid with dimension 2 and 1 output and refinement level 5\n",
    "    iDim = 2\n",
    "    iOut = 1\n",
    "#     iDepth = 5\n",
    "    which_basis = 1 #1= linear basis functions -> Check the manual for other options\n",
    "    \n",
    "    # 1000 2-dimensional sample points \n",
    "    aPnts = np.empty([1000, 2])  \n",
    "    for iI in range(1000):\n",
    "        for iJ in range(2):\n",
    "            aPnts[iI][iJ] = uniform(-1.0, 1.0)\n",
    "    \n",
    "    # Result\n",
    "    aTres = np.empty([1000,])\n",
    "    for iI in range(1000):\n",
    "        aTres[iI] = f(aPnts[iI])\n",
    "\n",
    "    # construct sparse grid\n",
    "    grid.makeLocalPolynomialGrid(iDim, iOut, iDepth, which_basis, \"localp\")\n",
    "    aPoints = grid.getPoints()\n",
    "    iNumP1 = aPoints.shape[0]\n",
    "    aVals = np.empty([aPoints.shape[0], 1])\n",
    "    for iI in range(aPoints.shape[0]):\n",
    "        aVals[iI] = f(aPoints[iI])\n",
    "    grid.loadNeededPoints(aVals)\n",
    "    \n",
    "    aRes = grid.evaluateBatch(aPnts)\n",
    "    fError1 = max(np.fabs(aRes[:,0] - aTres))\n",
    "    \n",
    "    return int(iNumP1), fError1\n",
    "        \n",
    "\n",
    "depth = np.arange(1,10)\n",
    "num_points = np.empty([6, len(depth)])\n",
    "fError = np.empty([6, len(depth)])\n",
    "\n",
    "for i in range(len(depth)):\n",
    "    num_points[0, i], fError[0, i] = solve_fixed(f1, depth[i])\n",
    "    num_points[1, i], fError[1, i] = solve_fixed(f2, depth[i])\n",
    "#     num_points[2, i], fError[2, i] = solve_fixed(f3, depth[i])\n",
    "    num_points[3, i], fError[3, i] = solve_fixed(f4, depth[i])\n",
    "    num_points[4, i], fError[4, i] = solve_fixed(f5, depth[i])\n",
    "    num_points[5, i], fError[5, i] = solve_fixed(f6, depth[i])\n",
    "#     print(i)\n",
    "#     print(num_points[1, i])\n",
    "\n",
    "# print(num_points)\n",
    "# print(fError)\n",
    "\n",
    "print(\"Fixed Sparse Grids\")\n",
    "\n",
    "plt.figure()\n",
    "plt.plot(depth, fError[0, :], color = 'red', label = 'f1')\n",
    "plt.plot(depth, fError[1, :], color = 'blue', label = 'f2')\n",
    "plt.plot(depth, fError[3, :], color = 'green', label = 'f4')\n",
    "plt.plot(depth, fError[4, :], color = 'magenta', label = 'f5')\n",
    "plt.plot(depth, fError[5, :], color = 'black', label = 'f6')\n",
    "# plt.plot(k_grid, p[:,1], color = 'blue', label = 'State 2')\n",
    "plt.xlabel('Depth Level')\n",
    "plt.ylabel(\"Error\")\n",
    "plt.title('Fixed Sparse Grids Errors')\n",
    "plt.legend(loc='lower right')\n",
    "plt.show();\n"
   ]
  },
  {
   "cell_type": "markdown",
   "metadata": {
    "button": false,
    "deletable": true,
    "new_sheet": false,
    "run_control": {
     "read_only": false
    }
   },
   "source": [
    "## Adaptative grid"
   ]
  },
  {
   "cell_type": "code",
   "execution_count": 19,
   "metadata": {
    "button": false,
    "collapsed": false,
    "deletable": true,
    "new_sheet": false,
    "run_control": {
     "read_only": false
    }
   },
   "outputs": [
    {
     "name": "stdout",
     "output_type": "stream",
     "text": [
      "[7. 7. 7. 7. 7.]\n",
      "[0.43449346 0.99965958 0.99965958 0.99965958 0.99965958]\n"
     ]
    }
   ],
   "source": [
    "def solve_fixed(f, refinement_level):\n",
    "    \n",
    "    # Adaptive Sparse Grid with dimension 2 and 1 output, refinement criterion.\n",
    "    iDim = 2\n",
    "    iOut = 1\n",
    "    iDepth = 1\n",
    "    fTol = 1.E-8\n",
    "    which_basis = 1 \n",
    "    \n",
    "    # 1000 2-dimensional sample points \n",
    "    aPnts = np.empty([1000, 2])  \n",
    "    for iI in range(1000):\n",
    "        for iJ in range(2):\n",
    "            aPnts[iI][iJ] = uniform(-1.0, 1.0)\n",
    "        \n",
    "    aTres = np.empty([1000,])\n",
    "    for iI in range(1000):\n",
    "        aTres[iI] = f(aPnts[iI,:])\n",
    "    \n",
    "    # level of grid before refinement\n",
    "    grid1.makeLocalPolynomialGrid(iDim, iOut, iDepth, which_basis, \"localp\")\n",
    "\n",
    "    aPoints = grid1.getPoints()\n",
    "    aVals = np.empty([aPoints.shape[0], 1])\n",
    "    for iI in range(aPoints.shape[0]):\n",
    "        aVals[iI] = f(aPoints[iI,:])\n",
    "    grid1.loadNeededPoints(aVals)\n",
    "    \n",
    "    grid_pts = np.empty([refinement_level])\n",
    "    fError_adap = np.empty([refinement_level])\n",
    "    \n",
    "    #refinement level\n",
    "    for iK in range(refinement_level):\n",
    "        grid1.setSurplusRefinement(fTol, 1, \"fds\")   #also use fds, or other rules\n",
    "        aPoints = grid1.getNeededPoints()\n",
    "        aVals = np.empty([aPoints.shape[0], 1])\n",
    "        for iI in range(aPoints.shape[0]):\n",
    "            aVals[iI] = f(aPoints[iI,:])\n",
    "        grid1.loadNeededPoints(aVals)\n",
    "\n",
    "        aRes = grid1.evaluateBatch(aPnts)\n",
    "        \n",
    "        fError_adap[iK] = max(np.fabs(aRes[:,0] - aTres))\n",
    "        grid_pts[iK] = grid1.getNumPoints()\n",
    "\n",
    "#         print(\" {0:9d} {1:9d}  {2:1.2e}\".format(iK+1, grid1.getNumPoints(), fError1))\n",
    "    return grid_pts, fError_adap\n",
    "\n",
    "\n",
    "\n",
    "\n",
    "gg, ff = solve_fixed(f4, 5)\n",
    "    \n",
    "print(gg)\n",
    "print(ff)\n",
    "    "
   ]
  },
  {
   "cell_type": "code",
   "execution_count": null,
   "metadata": {
    "button": false,
    "collapsed": true,
    "deletable": true,
    "new_sheet": false,
    "run_control": {
     "read_only": false
    }
   },
   "outputs": [],
   "source": []
  }
 ],
 "metadata": {
  "kernelspec": {
   "display_name": "Python 2",
   "language": "python",
   "name": "python2"
  },
  "language_info": {
   "codemirror_mode": {
    "name": "ipython",
    "version": 2
   },
   "file_extension": ".py",
   "mimetype": "text/x-python",
   "name": "python",
   "nbconvert_exporter": "python",
   "pygments_lexer": "ipython2",
   "version": "2.7.12"
  }
 },
 "nbformat": 4,
 "nbformat_minor": 2
}
